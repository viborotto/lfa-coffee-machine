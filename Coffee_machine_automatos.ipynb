{
 "cells": [
  {
   "cell_type": "markdown",
   "id": "73b755f3",
   "metadata": {},
   "source": [
    "<center><h1>Máquina de café com autômatos</h1></center> "
   ]
  },
  {
   "cell_type": "markdown",
   "id": "5a2ef70c",
   "metadata": {},
   "source": [
    "**Estados possíveis:**\n",
    "\n",
    "|Estado|Descrição|\n",
    "|:----:|:-------:|\n",
    "|q0|Esperando seleção|\n",
    "|q1|Esperando pagamento|\n",
    "|q2|Preparando café|\n",
    "|q3|Entregando café|\n",
    "|q4|Devolvendo troco (se aplicável)|\n",
    "|q5|Operação cancelada|\n",
    "\n",
    "**Alfabeto**\n",
    "\n",
    "|Símbolo|Descrição|\n",
    "|:-----:|:-------:|\n",
    "|0|Falso|\n",
    "|1|Verdadeiro|\n",
    "\n",
    "**Tipos de bebidas**\n",
    "\n",
    "| Bebida          | Preço Venda(Reais) | Preço Custo(Reais)|\n",
    "|:---------------:|:----------------:|:----------------:|\n",
    "| Café filtrado   | 7.50             | 3.00             |\n",
    "| Café latte      | 8.00             | 4.00             |\n",
    "| Café frappé     | 14.50            | 7.25             |\n",
    "| Chocolate quente| 9.50             | 5.00             |\n",
    "| Chá             | 6.50             | 2.00             |"
   ]
  },
  {
   "cell_type": "markdown",
   "id": "96892527",
   "metadata": {},
   "source": [
    "### Importações"
   ]
  },
  {
   "cell_type": "code",
   "execution_count": 3,
   "id": "9790dd7c",
   "metadata": {},
   "outputs": [],
   "source": [
    "from automathon import DFA"
   ]
  },
  {
   "cell_type": "markdown",
   "id": "a82c15c0",
   "metadata": {},
   "source": [
    "#### Definição do problema"
   ]
  },
  {
   "cell_type": "markdown",
   "id": "b2800a48",
   "metadata": {},
   "source": [
    "Modelando o sistema da máquina de café:\n",
    "\n",
    "- Cada opção disponibilizada pelo sistema possui um custo de produção atrelado, discriminado na tabela de tipos de bebidas vista acima\n",
    "- O sistema conta com um caixa, que é verificado no automato para conferir a possibilidade de entrega do pedido\n",
    "- O cliente deve inserir um preço maior ou igual ao correspondente da bebida escolhida. Se o pagamento inserido for maior que o necessário, o sistema volta um troco para ele"
   ]
  },
  {
   "cell_type": "code",
   "execution_count": 147,
   "id": "ed83adf2",
   "metadata": {},
   "outputs": [],
   "source": [
    "class CoffeMachine:\n",
    "    def __init__(self):\n",
    "        \n",
    "        self.caixa = 1000\n",
    "        \n",
    "        self.opcoes = {\n",
    "            'Café filtrado': (7.50, 3),\n",
    "            'Café late': (8, 3.50),\n",
    "            'Café frappé': (14.50, 4.25),\n",
    "            'Chocolate quente': (9.50, 5),\n",
    "            'Chá': (6.50, 2)\n",
    "        }\n",
    "        \n",
    "        self.Q = {'q0', 'q1', 'q2', 'q3', 'q4', 'q5'}\n",
    "        self.sigma = {'0', '1'}\n",
    "        self.delta = {\n",
    "            'q0': {'0': 'q5', '1': 'q1'},\n",
    "            'q1': {'0': 'q5', '1': 'q2'},\n",
    "            'q2': {'0': 'q2', '1': 'q3'},\n",
    "            'q3': {'0': 'q3', '1': 'q4'},\n",
    "            'q4': {'0': 'q4', '1': 'q4'},\n",
    "            'q5': {'0': 'q5', '1': 'q5'}\n",
    "        }\n",
    "        self.initial_state = 'q0'\n",
    "        self.F = {'q3', 'q4'}\n",
    "        \n",
    "        self.automata = DFA(self.Q, self.sigma, self.delta, self.initial_state, self.F)\n",
    "        \n",
    "    def exibe_opcoes(self):\n",
    "        i = 0\n",
    "        print('Número - Opção: Preço')\n",
    "        for key, item in self.opcoes.items():\n",
    "            print(f'{i} - {key}: {item[0]}')\n",
    "            i+=1\n",
    "        print('')\n",
    "        \n",
    "    def check_pagamento(self, cliente):\n",
    "        return self.opcoes.get(cliente.opcao_desejada)[0] <= cliente.pagamento\n",
    "        \n",
    "    def get_troco(self, cliente):\n",
    "        return cliente.pagamento - self.opcoes.get(cliente.opcao_desejada)[0]\n",
    "    \n",
    "    def check_caixa(self, cliente):\n",
    "        return self.caixa > (cliente.pagamento + self.opcoes.get(cliente.opcao_desejada)[1] + self.get_troco(cliente))\n",
    "    \n",
    "    def att_caixa(self):\n",
    "        self.caixa = self.caixa + cliente.pagamento - self.opcoes.get(cliente.opcao_desejada)[1] - self.get_troco(cliente)\n",
    "    \n",
    "    def exibe_caixa(self):\n",
    "        print(f'O caixa está em: {self.caixa}')\n",
    "    \n",
    "    def atualiza_caixa(self, cliente):\n",
    "        self.caixa = self.caixa + cliente.pagamento - self.opcoes.get(cliente.opcao_desejada)[1]\n",
    "        \n",
    "    def check_automato(self, cliente):\n",
    "        \n",
    "        entrada = '1' + str(int(self.check_pagamento(cliente))) + str(int(self.check_caixa(cliente))) + '1' + str(int(self.get_troco(cliente)>0))\n",
    "        \n",
    "        if self.automata.accept(entrada):\n",
    "            print('Pedido aprovado!')\n",
    "            self.att_caixa()\n",
    "        else:\n",
    "            print('Pedido não aprovado')\n",
    "        \n",
    "        if not self.check_caixa(cliente):\n",
    "            print('Caixa insuficiente!')\n",
    "        \n",
    "        cliente.set_troco(self.get_troco(cliente))\n",
    "        "
   ]
  },
  {
   "cell_type": "code",
   "execution_count": 139,
   "id": "a0b5ebe0",
   "metadata": {},
   "outputs": [],
   "source": [
    "class Cliente:\n",
    "    def __init__(self, opcao_desejada, pagamento):\n",
    "        self.opcao_desejada = opcao_desejada\n",
    "        self.pagamento = pagamento\n",
    "        \n",
    "    def set_troco(self, troco):\n",
    "        self.troco = troco\n",
    "        \n",
    "    def exibe_troco(self):\n",
    "        if self.troco > 0:\n",
    "            print(f'Seu troco é de: {self.troco}')"
   ]
  },
  {
   "cell_type": "markdown",
   "id": "93f57ade",
   "metadata": {},
   "source": [
    "#### instanciando o sistema da máquina de café"
   ]
  },
  {
   "cell_type": "code",
   "execution_count": 148,
   "id": "9efb910e",
   "metadata": {},
   "outputs": [],
   "source": [
    "maq = CoffeMachine()"
   ]
  },
  {
   "cell_type": "markdown",
   "id": "27ef01c8",
   "metadata": {},
   "source": [
    "#### Checando se o autômato gerado é válido para um AFD"
   ]
  },
  {
   "cell_type": "code",
   "execution_count": 136,
   "id": "80a29ed1",
   "metadata": {},
   "outputs": [
    {
     "data": {
      "text/plain": [
       "True"
      ]
     },
     "execution_count": 136,
     "metadata": {},
     "output_type": "execute_result"
    }
   ],
   "source": [
    "maq.automata.is_valid()"
   ]
  },
  {
   "cell_type": "markdown",
   "id": "aa4cd4a2",
   "metadata": {},
   "source": [
    "#### Visualização do autômato"
   ]
  },
  {
   "cell_type": "code",
   "execution_count": 41,
   "id": "bf60a73c",
   "metadata": {},
   "outputs": [],
   "source": [
    "# estilo default\n",
    "maq.automata.view(\"DFA Visualization\")\n"
   ]
  },
  {
   "cell_type": "code",
   "execution_count": 42,
   "id": "d2c87f1b",
   "metadata": {},
   "outputs": [],
   "source": [
    "maq.automata.view(\n",
    "    file_name=\"DFA Visualization_personalizado\",\n",
    "    node_attr={'fontsize': '20'},\n",
    "    edge_attr={'fontsize': '20pt'}\n",
    ")"
   ]
  },
  {
   "cell_type": "markdown",
   "id": "f6819f7c",
   "metadata": {},
   "source": [
    "![Automato que representa a máquina de café](./DFA_Visualization_personalizado.png)"
   ]
  },
  {
   "cell_type": "markdown",
   "id": "bbfc1b34",
   "metadata": {},
   "source": [
    "#### Funcionamento dos pedidos"
   ]
  },
  {
   "cell_type": "markdown",
   "id": "1b6353b2",
   "metadata": {},
   "source": [
    "- As opções são exibidas ao usuário\n",
    "- O usuário seleciona um item do cardápio e insere o seu pagamento\n",
    "- De acordo com as informações sugeridas, o sistema, por meio do AFD, verifica a possibilidade de conclusão do pedido\n",
    "- Caso aplicável, o troco é devolvido ao cliente\n",
    "- Caso quiser parar de utilizar o sistema, basta entrar com -1 na seleção de opções"
   ]
  },
  {
   "cell_type": "code",
   "execution_count": 150,
   "id": "21bf0f5e",
   "metadata": {
    "scrolled": true
   },
   "outputs": [
    {
     "name": "stdout",
     "output_type": "stream",
     "text": [
      "Entre com -1 para sair\n",
      "\n",
      "Número - Opção: Preço\n",
      "0 - Café filtrado: 7.5\n",
      "1 - Café late: 8\n",
      "2 - Café frappé: 14.5\n",
      "3 - Chocolate quente: 9.5\n",
      "4 - Chá: 6.5\n",
      "\n",
      "Selecione o número da opção desejada: 5\n",
      "Não há essa opção no cardápio\n",
      "\n",
      "Selecione o número da opção desejada: -1\n",
      "Obrigado por ser nosso cliente! Até mais!\n"
     ]
    }
   ],
   "source": [
    "print('Entre com -1 para sair\\n')\n",
    "maq.exibe_opcoes()\n",
    "\n",
    "while True:\n",
    "    opcao = int(input('Selecione o número da opção desejada: '))\n",
    "    \n",
    "    if opcao < 0:\n",
    "        print('Obrigado por ser nosso cliente! Até mais!')\n",
    "        break\n",
    "    if opcao > 4:\n",
    "        print('Não há essa opção no cardápio\\n')\n",
    "        continue\n",
    "        \n",
    "    pagamento = float(input('Entre com o pagamento: '))\n",
    "\n",
    "    opcao_desejada = list(maq.opcoes.keys())[opcao]\n",
    "\n",
    "    cliente = Cliente(opcao_desejada, pagamento)\n",
    "\n",
    "    resultado = maq.check_automato(cliente)\n",
    "    cliente.exibe_troco()\n",
    "    maq.exibe_caixa()\n",
    "    \n",
    "    print()\n",
    "    "
   ]
  },
  {
   "cell_type": "code",
   "execution_count": null,
   "id": "a43550f8",
   "metadata": {},
   "outputs": [],
   "source": []
  }
 ],
 "metadata": {
  "kernelspec": {
   "display_name": "Python 3 (ipykernel)",
   "language": "python",
   "name": "python3"
  },
  "language_info": {
   "codemirror_mode": {
    "name": "ipython",
    "version": 3
   },
   "file_extension": ".py",
   "mimetype": "text/x-python",
   "name": "python",
   "nbconvert_exporter": "python",
   "pygments_lexer": "ipython3",
   "version": "3.10.7"
  }
 },
 "nbformat": 4,
 "nbformat_minor": 5
}
